{
 "cells": [
  {
   "cell_type": "code",
   "execution_count": 54,
   "metadata": {},
   "outputs": [],
   "source": [
    "import os\n",
    "import google.generativeai as genai\n",
    "from youtube_transcript_api import YouTubeTranscriptApi"
   ]
  },
  {
   "cell_type": "code",
   "execution_count": 55,
   "metadata": {},
   "outputs": [],
   "source": [
    "with open(\"gemini_api.txt\",\"r\") as file:\n",
    "    api_key = file.read().strip()"
   ]
  },
  {
   "cell_type": "code",
   "execution_count": 56,
   "metadata": {},
   "outputs": [],
   "source": [
    "genai.configure(api_key=api_key)"
   ]
  },
  {
   "cell_type": "code",
   "execution_count": 57,
   "metadata": {},
   "outputs": [],
   "source": [
    "generation_config = {\n",
    "  \"temperature\": 1,\n",
    "  \"top_p\": 0.95,\n",
    "  \"top_k\": 64,\n",
    "  \"max_output_tokens\": 8192,\n",
    "  \"response_mime_type\": \"text/plain\",\n",
    "}\n",
    "safety_settings = [\n",
    "  {\n",
    "    \"category\": \"HARM_CATEGORY_HARASSMENT\",\n",
    "    \"threshold\": \"BLOCK_MEDIUM_AND_ABOVE\",\n",
    "  },\n",
    "  {\n",
    "    \"category\": \"HARM_CATEGORY_HATE_SPEECH\",\n",
    "    \"threshold\": \"BLOCK_MEDIUM_AND_ABOVE\",\n",
    "  },\n",
    "  {\n",
    "    \"category\": \"HARM_CATEGORY_SEXUALLY_EXPLICIT\",\n",
    "    \"threshold\": \"BLOCK_MEDIUM_AND_ABOVE\",\n",
    "  },\n",
    "  {\n",
    "    \"category\": \"HARM_CATEGORY_DANGEROUS_CONTENT\",\n",
    "    \"threshold\": \"BLOCK_MEDIUM_AND_ABOVE\",\n",
    "  },\n",
    "]"
   ]
  },
  {
   "cell_type": "code",
   "execution_count": 58,
   "metadata": {},
   "outputs": [
    {
     "data": {
      "text/plain": [
       "\"What is life? \\n\\nA question pondered by philosophers and scientists for millennia, with no single answer satisfying everyone. Is it:\\n\\n* **A biological process?** Defined by characteristics like growth, reproduction, and adaptation, a constant dance of energy and information. \\n* **A journey of experiences?**  A tapestry woven from moments of joy and sorrow, love and loss, triumph and failure. \\n* **A search for meaning and purpose?** A quest to understand our place in the universe and leave a lasting impact.\\n* **A mystery to be unraveled?** An intricate puzzle with clues hidden in the fabric of reality, constantly evolving and defying easy explanation.\\n\\nPerhaps life is all of these things and more. It's the spark in a newborn's eyes, the resilience of a weathered tree, the echo of a melody long gone. Ultimately, **life's meaning is what you make it**, a blank canvas waiting for your unique story to be painted. \\n\""
      ]
     },
     "execution_count": 58,
     "metadata": {},
     "output_type": "execute_result"
    }
   ],
   "source": [
    "model = genai.GenerativeModel(\n",
    "  model_name=\"gemini-1.5-pro\",\n",
    "  safety_settings=safety_settings,\n",
    "  generation_config=generation_config,\n",
    "  system_instruction=\"You are a prompt completion model. Please provide a continuation to the following prompt.\",\n",
    ")\n",
    "question = \"What is life?\"\n",
    "response = model.generate_content(question)\n",
    "response.text"
   ]
  },
  {
   "cell_type": "code",
   "execution_count": 59,
   "metadata": {},
   "outputs": [],
   "source": [
    "import json\n",
    "\n",
    "with open(\"gmaps_to_link.json\", \"r\") as file:\n",
    "    data = json.load(file)"
   ]
  },
  {
   "cell_type": "code",
   "execution_count": 60,
   "metadata": {},
   "outputs": [
    {
     "data": {
      "text/plain": [
       "[{'title': 'Lunch At A Highway Eatery! Namma Hallimane, Byrapura #hassan #foodvlog #mangalore #highway',\n",
       "  'link': 'https://www.youtube.com/watch?v=HG9JmewVE04',\n",
       "  'description': 'Only about three years old, however Namma HalliMane is fast emerging as ‘the stop’ for its wood fire-cooked biryani and mutton delicacies on this stretch of Mangalore highway. Watch the complete video at https://youtu.be/7DeoFR_RHRU \\n\\nSubscribe for more like this!\\n\\nADDRESS - Namma Hallimane, NH 75, Near Petrol Bunk, Bangalore - Mangalore Highway, Byrapura, Alur Taluk, Hassan District, Karnataka 573218; tel: +91 95382 28237\\nLOCATION TAG - https://maps.app.goo.gl/5bcyGF2Xys5U8cJH6    \\nTIMINGS: 12pm onwards, open for lunch only.\\n\\n#gourmetontheroad #kripalamanna #foodloverstv #nammahallimane #byrapura #nonveg #biryani #mutton #karnatakafoodtour #supportsmallbusiness #supportlocal #foodloversindia #truthinfood',\n",
       "  'transcription': \"M Kaa M Kaa M [Music] mut Chicken Chops one by one the dishes are coming our table is full so I've got the Chicken Chops here there's a chicken kebab here those are the only two chicken dishes that we have there's also a Biryani that they do this of course is the bti gojou and this is the bti that is made with the a that is the highin bean this is a dish that I really had my eyes on the moment he opened the lid and I saw these plump juicy Kaa there's also a bit of charby that you see here a bit of fat right on top this is the mutton Curry and then we have a soft malig idly with some saru and some bti\",\n",
       "  'lat': 12.9583738,\n",
       "  'long': 75.9795023},\n",
       " {'title': 'Mutton Biryani & Curries At This Highway Stop! #biryani #biryanilovers #muttoncurry  #food',\n",
       "  'link': 'https://www.youtube.com/watch?v=bu9Bqa0e7v8',\n",
       "  'description': 'Watch full video at https://youtu.be/7DeoFR_RHRU \\nSubscribe for more like this! \\n\\nADDRESS - Namma Hallimane, NH 75, Near Petrol Bunk, Bangalore - Mangalore Highway, Byrapura, Alur Taluk, Hassan District, Karnataka 573218; tel: +91 95382 28237\\nLOCATION TAG - https://maps.app.goo.gl/5bcyGF2Xys5U8cJH6    \\nTIMINGS: 12pm onwards, open for lunch only.\\n\\n#gourmetontheroad #kripalamanna #foodloverstv #nammahallimane #byrapura #nonveg\\n#biryani #mutton #karnatakafoodtour #supportsmallbusiness #supportlocal #foodloversindia #truthinfood',\n",
       "  'transcription': \"[Music] mutton Biryani yes sir oh chicken biryani I love the aroma of that Biryani is jostling with the Smoky atmosphere of the [Music] [Music] place oh Chicken [Music] Chops F Bean fantastic and I'm told the combination here is the idly that idly is soft with some of that b also get some of that m\",\n",
       "  'lat': 12.9583738,\n",
       "  'long': 75.9795023},\n",
       " {'title': 'Delicious Wood Fire Biryani, Non Veg Meal At This Village Eatery! NAMMA HALLIMANE, Mangalore Highway',\n",
       "  'link': 'https://www.youtube.com/watch?v=7DeoFR_RHRU',\n",
       "  'description': '#nammahallimane #byrapura #nonveg\\n \\nnamma halli mane, namma hallimane byrapura, hassan district, sakleshpur, mangalore highway, village eatery, non vegetarian lunch, mutton biryani, mutton meals, khaima unde, mutton curry, chicken curry, mallige idli, chicken biryani, chicken chops, botti gojju, chicken kabab,non vegetarian restaurant, mangalore highway, shiradi ghat route, mutton chops curry, karnataka food tour, support local, support small business, gourmet on the road, kripal amanna, food lovers tv, food lovers india, truth in food \\n\\nA few months ago, I began hearing murmurs of a village eatery in Byrapura, Hassan district that seemed to be garnering patrons for its wood-fired biryani and dishes served in a rustic setting. Although only three years old, Umesh Gowda’s Namma Hallimane seems to be emerging as ‘the stop’ for travellers around here mostly for his mutton delicacies, I discovered when I stopped by for lunch.\\n\\nHope you enjoy this lunch stop. Take care; stay safe and strong. Happy eating!\\n\\nBoti Gojju & Idli\\n9/10\\nRs. 205\\n\\nChicken Kabab\\n7.5/10\\nRs. 180\\n\\nChicken Chops\\n7.5/10\\nRs. 180\\n\\nKhaima Unde\\n8/10\\nRs. 200\\n\\nMutton Curry\\n8.5/10\\nRs. 200\\n\\nMutton Biryani\\n8.5/10\\nRs. 260\\n\\n\\nKripal Amanna\\nGourmet On The Road & Founder, Food Lovers TV\\n\\nSubscribe To our second channel at https://www.youtube.com/c/KripalAmannaVlogs \\n\\nADDRESS - Namma Hallimane, NH 75, Near Petrol Bunk, Bangalore - Mangalore Highway, Byrapura, Alur Taluk, Hassan District, Karnataka 573218; tel: +91 95382 28237\\nLOCATION TAG - https://maps.app.goo.gl/5bcyGF2Xys5U8cJH6    \\nTIMINGS: 12pm onwards, open for lunch only.\\n\\nSUPPORT FOOD LOVERS \\nIf you enjoyed this video, please consider supporting Food Lovers TV by joining our membership community on YouTube by hitting the ‘join’ button below or on the home page. You could pledge a nominal sum and receive special privileges like behind the scenes footage, shoot updates, access to live q&a’s and more. \\n\\nYou could also support us on our Patreon page. For more info, check out the links below. \\nhttps://www.youtube.com/channel/UC-Lq6oBPTgTXT_K-ylWL6hg/join\\nhttps://www.patreon.com/foodloverstv \\n\\nOur vision at Food Lovers TV is to be India’s most vibrant, and more  importantly, trusted food content platform. As you may be aware, content on Food Lovers TV is free of commercial constraints as guided by our credo: truth in food. We seek out deserving stories to be told sans any financial consideration from eateries featured. We have chosen not to put up a paywall as we want our rich content to remain accessible to all. Independent food journalism – free for everyone, supported by those who can.\\n\\nYou can also make a one time, direct contribution via upi to our bank account (upi details as below) \\nA/c name: Hospitality Initiatives India Pvt. Ltd.\\neditor-foodlovers.in-1@okhdfcbank\\nPlease email the transfer details to info@foodlovers.in once you have made a contribution.\\n\\nMembers of Food Lovers TV Family Tier on Patreon:\\nTuhina Roy\\nYou too can be part of the Food Lovers Patron Network. Visit https://www.patreon.com/foodloverstv to join the Food Lovers family \\n\\nMembers of Food Lovers TV Insider on YouTube Community:\\nGautam John \\nSanjay Rangan\\nBeena Balagopal\\n\\nYou too can be part of the Food Lovers YouTube Community. Visit https://www.youtube.com/channel/UC-Lq6oBPTgTXT_K-ylWL6hg/join to join the Food Lovers family.\\n\\nNote: This is purely voluntary, no compulsions. \\n\\nThank you.\\n\\nTeam FLTV\\n🙏😋',\n",
       "  'transcription': \"[Music] mutton Biryani yes sir oh chicken biryani I love the aroma of that Biryani is jostling with the Smoky atmosphere of the [Music] [Music] place oh Chicken [Music] Chops PE High Bean fantastic and I'm told the combination here is the idly that idly is soft with some of that b also get some of that m well we are on the Bangalore Mangalore highway it's about 1:00 in the afternoon and we've stopped for lunch bangaluru is 200 km behind me cesur is roughly about 25 km so it's that time of the afternoon when I was feeling a little hungry and i' had heard of this place called namama harim man here in bayura in Hassen District so that's where we've arrived for lunch I don't know what the food here is all about but I've received requests from the establishments and also a few recommendations over a period of time so I think lunch here should certainly be interesting hello how is the food very good yeah what are you having mutton Biryani mutton Biryani Namaste sir namas new Mr yes sir fan of you thank you very much nice to meet you thank you sir thank you owning chicken birani fish fry chicken m yeah very soft [Music] idly bit of a smoky atmosphere here but that's always nice because they do the cooking over a wood fired store mutton Biryani yes buet rice rice I love the aroma of that Biryani is jostling with the Smokey atmosphere of the place oh chicken [Music] birani yes sir CH yeah yeah CH powder powder definitely smell the coriander in that M Masala Mt [Music] m [Music] oh Chicken Chops mil [Music] only so basically what he says is that the younger the animal is better for a Biryani because you want that meat to really dissolve and if the animal is older then that does well in the sambar yeah I like that bright vious red color of the basically it's a peeled Bean fantastic [Music] so muton Chicken on the dish Chicken Chops chicken biryani cab and [Music] open well this is one of those places that's fairly modest in fact if I didn't put GPS on I would have quite easily overshot this particular location thank God for Google Maps but I think it's the food in this place that rules because although I've received requests from omes GAA on Instagram earlier I've received many recommendations thereafter and also many of the customers that I met here are people whove been here before so they've tried the Biryani they've tried the kebab and that's why they've return to taste what cooks for them thank you you well they also have mud here so in case you want to eat your mud with the saru you can also do that but I saw those soft Mal ID steaming away in that casserole and I think that's what I'm going to have with the [Music] saru thank youo B goo yeah chicken kebab baju chicken kebab and some soft idly [Music] yeah so out here I think uh um GAA insists on you eating in a manner that he would like you to eat muton Kaa mut M [Music] mut Chicken Chops one by one the dishes are coming our table is full so I've got the Chicken Chops here there's a chicken kebab here those are the only two chicken dishes that we have there's also a Biryani that they do this of course is the B gojou and this is the bti that is made with the a b that is the Heen Bean this is a dish that I really had my eyes on the moment you opened the lid and I saw these Plum juicy kaima there's also a bit of charby that you see here a bit of fat right on top this is the mutton Curry and then we have a soft malig idly with some saru and some bti I want to taste that bti first just by itself some Curry [Music] Leaf I think the curries here are certainly the s that grip hold of your throat with a spicy furor there's certain thickness to that b gojou and I'm told the combination here is the idly that idly is soft with some of that b also get some of that a b m told me so before you try anything else please try the B it's a very popular dish and having tasted only a few morels of it I completely believe him the B is soft clean rather well as well and just has a lightest of bites this time it's some of that sambar this is a curry I think there's also a bit of meat in that [Music] the preparations here are the Sal that grip fold of your [Music] throat so even when I saw it in the kitchen most of the dishes out here are the s that are prepared with the red chilies so thises a combination of the byi for the color the G and manatu which is a local Nati chili which has a lot of heat and that's really what you're tasting on the throat M that idly is nice and [Music] soft for those of you like your ragim mud you also have the option of that but it's been a while since I've had a good idly mutton saru so I thought this was the combination to try and with the [Music] B let's try some of that chicken kebab there's a bit of green Chutney that they serve the Kebab with so I'm told he doesn't use any color in his kebab and that seems to be the case because it's not a kebab that's bright crimson red in its color it's a kebab that crunches well has a bit of a juiciness to it as well but not so impactful on the pette as that boty and that mutton saru when we walked in here there was nobody but right now every table is taken every chair taken and there are people waiting for a seat at the table that's how popular is I think next for some of that Chicken Chops get some of the saru there that thick gravy I can definitely taste the flavor of the Masala in that a bit of the coriander a bit of the cumin that's what I'm tasting in that saru is a bit rough around the edges not as smooth as that mutton saru chicken do is a bit tough they only do a couple of chicken dishes and I suspect it's the mutton dishes that find most favor with the customers here the chicken is for the occasional perhaps visitor for those who don't eat mutton and they happen to be stuck with a group of uh mutton lovers well then they have the Chicken Chops the kebab and also the Biryani the chicken is a bit chewy for my preference but what I'm really looking forward to savoring is some of that plump Kaa it breaks off rather easily you're tasting the meat which is quite coarse and its grind but then you're also tasting a bit of the flar that comes from the gram FL I think this can certainly benefit from a bit more of the saru you can also see a bit of the gram flour that's held on to that mutton Min and like it has held on to that mutton that fless of that GLE hitu is also holding on to your pette not too much but a little the saru is quite tasty I want to get some more of the sambar onto that Kaa un that idly is a great accompaniment to all the dishes that I've tasted thus [Music] far that saru is fantastic along with that B I want to tast some of that mutton Curry so this I suspect will be mutton that will be a tad chewy because he said they typically look for an older Animal when it comes to the curry when it comes to the sambar whereas for the Biryani they want an animal that is Young so they want it to be [Music] when it comes to places like these they want that mutton to have a bit of a bite when that mutton has a bit of a bite you tend to chew on it and when you chew on it you're rewarded with the flavor of that Masala but having said that there are certain pieces that are quite soft raita and the mutton Biryani thank you thank thank you very much well this is I'm told the most popular dish here at namal man in addition to that B that steaming plate of mutton Biryani as a mark of respect to the Biryani I've got a fresh plate with the B there's plenty of meat here at least about four or five pieces of meat that I see in this biryani not large pieces small pieces but I think enough that conveys to you the flavor of the meat I love the aroma that's rising up from that Rice so this is a combination of the bullet rice and another local variety that they use I can smell the aroma of the coriander some of the mint that's rising up along with the steam from that Biryani to meet my [Music] nose the Biryani rice is rather fullsome in its flavors if the rice to me conveys a sort of feeling to my palette that it's complete in its flavors well then that Biryani has done its job I can taste a bit of the freshness that comes from the greens from the coriander from the mint there's a bit of the heat that I taste from the green chili so there's no green chili in the other dishes but I think out here is definitely the green chili that you can taste and then also some of the aromat I think there's probably also some fennel that goes into this and the aroma of it I can toally taste detect on my [Music] palette perfect let's go for a bit of the meat [Music] now flavor I love the biryani I met a couple of people as soon as I entered and they say you have to try the Biryani and I having tasted this biryani I know why so Biryani top seller mimu good very good thank you m I'm enjoying the flavor of that rice all in itself the meat in my opinion is not the softest and that's a character of the kind of flavors the kind of textures that they look for in the food here youly need to chew on it a bit but the flavor is all in the rice here some of the meat with the [Music] rice I'm a little distracted because suddenly the place is very crowded and and there's a host of people wondering what I'm doing I think you can also hear the inquisitive conversations around me I think I want to taste some of that mutton curry with that Biryani rice so when you come here let's say if they finished the meat in the Biryani I don't think you want to miss out much ask them for the Biryani rice the kushka and perhaps one of the gravies like this mutton Curry there's also a bit of the charby a bit of the fat and people love the fat around here s b m s b m saru thank you I was inquiring with um as to why some of the pieces are hard some of the pieces are soft he said well we get the whole animal and uh different parts of it go into every preparation and so that's why you'll probably taste some tough pieces some pieces that are tender so the preparations here are the sort that are quite rustic in keeping with the atmosphere of the place so this is sort of place where you just come in have your UT rather quickly and move on but having said that the Biryani the rice especially is a salort that will compel you to linger over it a bit I taste a little more of that [Music] P with a bit of that saru buy bsy saru I love the flavor the texture of the meat in that but I just wish that grham flour was a little understated in the manner in which it registers on the pallette he said you have to finish with the Anna white rice and some Rasam busy busy Rasam to digest everything flavor of the garlic The Tamarind in that Rasam and I think that Rasam will also benefit from being in the company of that remaining dag of the Kaa so all in all Nim man here in bayura makes for a tasty Highway stop my recommendation like in any place that's very popular get here early so that you don't have to jostle with the crowd and of all the dishes that I tasted well my top piics are certainly that mutton Biryani especially that Biryani rice that b goou to was something that I will order the next time around and also that mutton saru the chicken preparations well they are the sort that lend wholesome company to that chicken only Diner when he or she finds themselves at namah har man but otherwise it's the mutton dishes that are supremely popular here I think I'm going to get a little more of that sambar and some of that mutton as I wrap up my mealia the mutton CES also I found very rounded in their flavors and I guess that's why the character of the meat with the fat comes in there's a fair bit of the fat the charby too that floats around in all these gravies the chicken preparations I thought we a bit harsh when it came to the edge of the spice mix especially the coriander and the cumin so that's it from namah man here in bayura until the next time take care stay safe stay strong and happy [Music] eating well all that we tasted good enough I think to feed four people at least rounds up to 1290 rupees okay sir thank you if you'd like to support the work that we do at Food Lovers TV do consider joining our membership community on YouTube by hitting the join button below or on the homepage you could pledge a nominal sum and receive special privileges like behind the scenes footage shoot updates access to live q&as and a lot more you could support us on our patreon page as well for more info check out the links in the description below if you like this video don't forget to subscribe like share and leave a comment below happy eating\",\n",
       "  'lat': 12.9583738,\n",
       "  'long': 75.9795023}]"
      ]
     },
     "execution_count": 60,
     "metadata": {},
     "output_type": "execute_result"
    }
   ],
   "source": [
    "data['https://maps.app.goo.gl/5bcyGF2Xys5U8cJH6']"
   ]
  },
  {
   "cell_type": "code",
   "execution_count": 61,
   "metadata": {},
   "outputs": [],
   "source": [
    "model = genai.GenerativeModel(\n",
    "  model_name=\"gemini-1.5-flash\",\n",
    "  safety_settings=safety_settings,\n",
    "  generation_config=generation_config,\n",
    "  system_instruction=\"You have to extract the restaurant name and classify the restaurant based on cuisine (include Indian State wise categories and sub regions in a state based on the address) (A restaurant can be more than one cuisine), price range (Use the prices of the dishes to classify to $, $$, $$$, $$$$ and $$$$$), and veg or non veg using the transcript of the video and description. Output the answer as a list with a dictionary inside JSON format.\",\n",
    ")"
   ]
  },
  {
   "cell_type": "code",
   "execution_count": 62,
   "metadata": {},
   "outputs": [
    {
     "data": {
      "text/plain": [
       "[{'title': 'Lunch At A Highway Eatery! Namma Hallimane, Byrapura #hassan #foodvlog #mangalore #highway',\n",
       "  'link': 'https://www.youtube.com/watch?v=HG9JmewVE04',\n",
       "  'description': 'Only about three years old, however Namma HalliMane is fast emerging as ‘the stop’ for its wood fire-cooked biryani and mutton delicacies on this stretch of Mangalore highway. Watch the complete video at https://youtu.be/7DeoFR_RHRU \\n\\nSubscribe for more like this!\\n\\nADDRESS - Namma Hallimane, NH 75, Near Petrol Bunk, Bangalore - Mangalore Highway, Byrapura, Alur Taluk, Hassan District, Karnataka 573218; tel: +91 95382 28237\\nLOCATION TAG - https://maps.app.goo.gl/5bcyGF2Xys5U8cJH6    \\nTIMINGS: 12pm onwards, open for lunch only.\\n\\n#gourmetontheroad #kripalamanna #foodloverstv #nammahallimane #byrapura #nonveg #biryani #mutton #karnatakafoodtour #supportsmallbusiness #supportlocal #foodloversindia #truthinfood',\n",
       "  'transcription': \"M Kaa M Kaa M [Music] mut Chicken Chops one by one the dishes are coming our table is full so I've got the Chicken Chops here there's a chicken kebab here those are the only two chicken dishes that we have there's also a Biryani that they do this of course is the bti gojou and this is the bti that is made with the a that is the highin bean this is a dish that I really had my eyes on the moment he opened the lid and I saw these plump juicy Kaa there's also a bit of charby that you see here a bit of fat right on top this is the mutton Curry and then we have a soft malig idly with some saru and some bti\",\n",
       "  'lat': 12.9583738,\n",
       "  'long': 75.9795023},\n",
       " {'title': 'Mutton Biryani & Curries At This Highway Stop! #biryani #biryanilovers #muttoncurry  #food',\n",
       "  'link': 'https://www.youtube.com/watch?v=bu9Bqa0e7v8',\n",
       "  'description': 'Watch full video at https://youtu.be/7DeoFR_RHRU \\nSubscribe for more like this! \\n\\nADDRESS - Namma Hallimane, NH 75, Near Petrol Bunk, Bangalore - Mangalore Highway, Byrapura, Alur Taluk, Hassan District, Karnataka 573218; tel: +91 95382 28237\\nLOCATION TAG - https://maps.app.goo.gl/5bcyGF2Xys5U8cJH6    \\nTIMINGS: 12pm onwards, open for lunch only.\\n\\n#gourmetontheroad #kripalamanna #foodloverstv #nammahallimane #byrapura #nonveg\\n#biryani #mutton #karnatakafoodtour #supportsmallbusiness #supportlocal #foodloversindia #truthinfood',\n",
       "  'transcription': \"[Music] mutton Biryani yes sir oh chicken biryani I love the aroma of that Biryani is jostling with the Smoky atmosphere of the [Music] [Music] place oh Chicken [Music] Chops F Bean fantastic and I'm told the combination here is the idly that idly is soft with some of that b also get some of that m\",\n",
       "  'lat': 12.9583738,\n",
       "  'long': 75.9795023},\n",
       " {'title': 'Delicious Wood Fire Biryani, Non Veg Meal At This Village Eatery! NAMMA HALLIMANE, Mangalore Highway',\n",
       "  'link': 'https://www.youtube.com/watch?v=7DeoFR_RHRU',\n",
       "  'description': '#nammahallimane #byrapura #nonveg\\n \\nnamma halli mane, namma hallimane byrapura, hassan district, sakleshpur, mangalore highway, village eatery, non vegetarian lunch, mutton biryani, mutton meals, khaima unde, mutton curry, chicken curry, mallige idli, chicken biryani, chicken chops, botti gojju, chicken kabab,non vegetarian restaurant, mangalore highway, shiradi ghat route, mutton chops curry, karnataka food tour, support local, support small business, gourmet on the road, kripal amanna, food lovers tv, food lovers india, truth in food \\n\\nA few months ago, I began hearing murmurs of a village eatery in Byrapura, Hassan district that seemed to be garnering patrons for its wood-fired biryani and dishes served in a rustic setting. Although only three years old, Umesh Gowda’s Namma Hallimane seems to be emerging as ‘the stop’ for travellers around here mostly for his mutton delicacies, I discovered when I stopped by for lunch.\\n\\nHope you enjoy this lunch stop. Take care; stay safe and strong. Happy eating!\\n\\nBoti Gojju & Idli\\n9/10\\nRs. 205\\n\\nChicken Kabab\\n7.5/10\\nRs. 180\\n\\nChicken Chops\\n7.5/10\\nRs. 180\\n\\nKhaima Unde\\n8/10\\nRs. 200\\n\\nMutton Curry\\n8.5/10\\nRs. 200\\n\\nMutton Biryani\\n8.5/10\\nRs. 260\\n\\n\\nKripal Amanna\\nGourmet On The Road & Founder, Food Lovers TV\\n\\nSubscribe To our second channel at https://www.youtube.com/c/KripalAmannaVlogs \\n\\nADDRESS - Namma Hallimane, NH 75, Near Petrol Bunk, Bangalore - Mangalore Highway, Byrapura, Alur Taluk, Hassan District, Karnataka 573218; tel: +91 95382 28237\\nLOCATION TAG - https://maps.app.goo.gl/5bcyGF2Xys5U8cJH6    \\nTIMINGS: 12pm onwards, open for lunch only.\\n\\nSUPPORT FOOD LOVERS \\nIf you enjoyed this video, please consider supporting Food Lovers TV by joining our membership community on YouTube by hitting the ‘join’ button below or on the home page. You could pledge a nominal sum and receive special privileges like behind the scenes footage, shoot updates, access to live q&a’s and more. \\n\\nYou could also support us on our Patreon page. For more info, check out the links below. \\nhttps://www.youtube.com/channel/UC-Lq6oBPTgTXT_K-ylWL6hg/join\\nhttps://www.patreon.com/foodloverstv \\n\\nOur vision at Food Lovers TV is to be India’s most vibrant, and more  importantly, trusted food content platform. As you may be aware, content on Food Lovers TV is free of commercial constraints as guided by our credo: truth in food. We seek out deserving stories to be told sans any financial consideration from eateries featured. We have chosen not to put up a paywall as we want our rich content to remain accessible to all. Independent food journalism – free for everyone, supported by those who can.\\n\\nYou can also make a one time, direct contribution via upi to our bank account (upi details as below) \\nA/c name: Hospitality Initiatives India Pvt. Ltd.\\neditor-foodlovers.in-1@okhdfcbank\\nPlease email the transfer details to info@foodlovers.in once you have made a contribution.\\n\\nMembers of Food Lovers TV Family Tier on Patreon:\\nTuhina Roy\\nYou too can be part of the Food Lovers Patron Network. Visit https://www.patreon.com/foodloverstv to join the Food Lovers family \\n\\nMembers of Food Lovers TV Insider on YouTube Community:\\nGautam John \\nSanjay Rangan\\nBeena Balagopal\\n\\nYou too can be part of the Food Lovers YouTube Community. Visit https://www.youtube.com/channel/UC-Lq6oBPTgTXT_K-ylWL6hg/join to join the Food Lovers family.\\n\\nNote: This is purely voluntary, no compulsions. \\n\\nThank you.\\n\\nTeam FLTV\\n🙏😋',\n",
       "  'transcription': \"[Music] mutton Biryani yes sir oh chicken biryani I love the aroma of that Biryani is jostling with the Smoky atmosphere of the [Music] [Music] place oh Chicken [Music] Chops PE High Bean fantastic and I'm told the combination here is the idly that idly is soft with some of that b also get some of that m well we are on the Bangalore Mangalore highway it's about 1:00 in the afternoon and we've stopped for lunch bangaluru is 200 km behind me cesur is roughly about 25 km so it's that time of the afternoon when I was feeling a little hungry and i' had heard of this place called namama harim man here in bayura in Hassen District so that's where we've arrived for lunch I don't know what the food here is all about but I've received requests from the establishments and also a few recommendations over a period of time so I think lunch here should certainly be interesting hello how is the food very good yeah what are you having mutton Biryani mutton Biryani Namaste sir namas new Mr yes sir fan of you thank you very much nice to meet you thank you sir thank you owning chicken birani fish fry chicken m yeah very soft [Music] idly bit of a smoky atmosphere here but that's always nice because they do the cooking over a wood fired store mutton Biryani yes buet rice rice I love the aroma of that Biryani is jostling with the Smokey atmosphere of the place oh chicken [Music] birani yes sir CH yeah yeah CH powder powder definitely smell the coriander in that M Masala Mt [Music] m [Music] oh Chicken Chops mil [Music] only so basically what he says is that the younger the animal is better for a Biryani because you want that meat to really dissolve and if the animal is older then that does well in the sambar yeah I like that bright vious red color of the basically it's a peeled Bean fantastic [Music] so muton Chicken on the dish Chicken Chops chicken biryani cab and [Music] open well this is one of those places that's fairly modest in fact if I didn't put GPS on I would have quite easily overshot this particular location thank God for Google Maps but I think it's the food in this place that rules because although I've received requests from omes GAA on Instagram earlier I've received many recommendations thereafter and also many of the customers that I met here are people whove been here before so they've tried the Biryani they've tried the kebab and that's why they've return to taste what cooks for them thank you you well they also have mud here so in case you want to eat your mud with the saru you can also do that but I saw those soft Mal ID steaming away in that casserole and I think that's what I'm going to have with the [Music] saru thank youo B goo yeah chicken kebab baju chicken kebab and some soft idly [Music] yeah so out here I think uh um GAA insists on you eating in a manner that he would like you to eat muton Kaa mut M [Music] mut Chicken Chops one by one the dishes are coming our table is full so I've got the Chicken Chops here there's a chicken kebab here those are the only two chicken dishes that we have there's also a Biryani that they do this of course is the B gojou and this is the bti that is made with the a b that is the Heen Bean this is a dish that I really had my eyes on the moment you opened the lid and I saw these Plum juicy kaima there's also a bit of charby that you see here a bit of fat right on top this is the mutton Curry and then we have a soft malig idly with some saru and some bti I want to taste that bti first just by itself some Curry [Music] Leaf I think the curries here are certainly the s that grip hold of your throat with a spicy furor there's certain thickness to that b gojou and I'm told the combination here is the idly that idly is soft with some of that b also get some of that a b m told me so before you try anything else please try the B it's a very popular dish and having tasted only a few morels of it I completely believe him the B is soft clean rather well as well and just has a lightest of bites this time it's some of that sambar this is a curry I think there's also a bit of meat in that [Music] the preparations here are the Sal that grip fold of your [Music] throat so even when I saw it in the kitchen most of the dishes out here are the s that are prepared with the red chilies so thises a combination of the byi for the color the G and manatu which is a local Nati chili which has a lot of heat and that's really what you're tasting on the throat M that idly is nice and [Music] soft for those of you like your ragim mud you also have the option of that but it's been a while since I've had a good idly mutton saru so I thought this was the combination to try and with the [Music] B let's try some of that chicken kebab there's a bit of green Chutney that they serve the Kebab with so I'm told he doesn't use any color in his kebab and that seems to be the case because it's not a kebab that's bright crimson red in its color it's a kebab that crunches well has a bit of a juiciness to it as well but not so impactful on the pette as that boty and that mutton saru when we walked in here there was nobody but right now every table is taken every chair taken and there are people waiting for a seat at the table that's how popular is I think next for some of that Chicken Chops get some of the saru there that thick gravy I can definitely taste the flavor of the Masala in that a bit of the coriander a bit of the cumin that's what I'm tasting in that saru is a bit rough around the edges not as smooth as that mutton saru chicken do is a bit tough they only do a couple of chicken dishes and I suspect it's the mutton dishes that find most favor with the customers here the chicken is for the occasional perhaps visitor for those who don't eat mutton and they happen to be stuck with a group of uh mutton lovers well then they have the Chicken Chops the kebab and also the Biryani the chicken is a bit chewy for my preference but what I'm really looking forward to savoring is some of that plump Kaa it breaks off rather easily you're tasting the meat which is quite coarse and its grind but then you're also tasting a bit of the flar that comes from the gram FL I think this can certainly benefit from a bit more of the saru you can also see a bit of the gram flour that's held on to that mutton Min and like it has held on to that mutton that fless of that GLE hitu is also holding on to your pette not too much but a little the saru is quite tasty I want to get some more of the sambar onto that Kaa un that idly is a great accompaniment to all the dishes that I've tasted thus [Music] far that saru is fantastic along with that B I want to tast some of that mutton Curry so this I suspect will be mutton that will be a tad chewy because he said they typically look for an older Animal when it comes to the curry when it comes to the sambar whereas for the Biryani they want an animal that is Young so they want it to be [Music] when it comes to places like these they want that mutton to have a bit of a bite when that mutton has a bit of a bite you tend to chew on it and when you chew on it you're rewarded with the flavor of that Masala but having said that there are certain pieces that are quite soft raita and the mutton Biryani thank you thank thank you very much well this is I'm told the most popular dish here at namal man in addition to that B that steaming plate of mutton Biryani as a mark of respect to the Biryani I've got a fresh plate with the B there's plenty of meat here at least about four or five pieces of meat that I see in this biryani not large pieces small pieces but I think enough that conveys to you the flavor of the meat I love the aroma that's rising up from that Rice so this is a combination of the bullet rice and another local variety that they use I can smell the aroma of the coriander some of the mint that's rising up along with the steam from that Biryani to meet my [Music] nose the Biryani rice is rather fullsome in its flavors if the rice to me conveys a sort of feeling to my palette that it's complete in its flavors well then that Biryani has done its job I can taste a bit of the freshness that comes from the greens from the coriander from the mint there's a bit of the heat that I taste from the green chili so there's no green chili in the other dishes but I think out here is definitely the green chili that you can taste and then also some of the aromat I think there's probably also some fennel that goes into this and the aroma of it I can toally taste detect on my [Music] palette perfect let's go for a bit of the meat [Music] now flavor I love the biryani I met a couple of people as soon as I entered and they say you have to try the Biryani and I having tasted this biryani I know why so Biryani top seller mimu good very good thank you m I'm enjoying the flavor of that rice all in itself the meat in my opinion is not the softest and that's a character of the kind of flavors the kind of textures that they look for in the food here youly need to chew on it a bit but the flavor is all in the rice here some of the meat with the [Music] rice I'm a little distracted because suddenly the place is very crowded and and there's a host of people wondering what I'm doing I think you can also hear the inquisitive conversations around me I think I want to taste some of that mutton curry with that Biryani rice so when you come here let's say if they finished the meat in the Biryani I don't think you want to miss out much ask them for the Biryani rice the kushka and perhaps one of the gravies like this mutton Curry there's also a bit of the charby a bit of the fat and people love the fat around here s b m s b m saru thank you I was inquiring with um as to why some of the pieces are hard some of the pieces are soft he said well we get the whole animal and uh different parts of it go into every preparation and so that's why you'll probably taste some tough pieces some pieces that are tender so the preparations here are the sort that are quite rustic in keeping with the atmosphere of the place so this is sort of place where you just come in have your UT rather quickly and move on but having said that the Biryani the rice especially is a salort that will compel you to linger over it a bit I taste a little more of that [Music] P with a bit of that saru buy bsy saru I love the flavor the texture of the meat in that but I just wish that grham flour was a little understated in the manner in which it registers on the pallette he said you have to finish with the Anna white rice and some Rasam busy busy Rasam to digest everything flavor of the garlic The Tamarind in that Rasam and I think that Rasam will also benefit from being in the company of that remaining dag of the Kaa so all in all Nim man here in bayura makes for a tasty Highway stop my recommendation like in any place that's very popular get here early so that you don't have to jostle with the crowd and of all the dishes that I tasted well my top piics are certainly that mutton Biryani especially that Biryani rice that b goou to was something that I will order the next time around and also that mutton saru the chicken preparations well they are the sort that lend wholesome company to that chicken only Diner when he or she finds themselves at namah har man but otherwise it's the mutton dishes that are supremely popular here I think I'm going to get a little more of that sambar and some of that mutton as I wrap up my mealia the mutton CES also I found very rounded in their flavors and I guess that's why the character of the meat with the fat comes in there's a fair bit of the fat the charby too that floats around in all these gravies the chicken preparations I thought we a bit harsh when it came to the edge of the spice mix especially the coriander and the cumin so that's it from namah man here in bayura until the next time take care stay safe stay strong and happy [Music] eating well all that we tasted good enough I think to feed four people at least rounds up to 1290 rupees okay sir thank you if you'd like to support the work that we do at Food Lovers TV do consider joining our membership community on YouTube by hitting the join button below or on the homepage you could pledge a nominal sum and receive special privileges like behind the scenes footage shoot updates access to live q&as and a lot more you could support us on our patreon page as well for more info check out the links in the description below if you like this video don't forget to subscribe like share and leave a comment below happy eating\",\n",
       "  'lat': 12.9583738,\n",
       "  'long': 75.9795023}]"
      ]
     },
     "execution_count": 62,
     "metadata": {},
     "output_type": "execute_result"
    }
   ],
   "source": [
    "data_point = data['https://maps.app.goo.gl/5bcyGF2Xys5U8cJH6']\n",
    "data_point"
   ]
  },
  {
   "cell_type": "code",
   "execution_count": 63,
   "metadata": {},
   "outputs": [],
   "source": [
    "text = data_point[2]['title'] + \" \" + data_point[2]['description'] + \" \" + data_point[2]['transcription']"
   ]
  },
  {
   "cell_type": "code",
   "execution_count": 64,
   "metadata": {},
   "outputs": [
    {
     "data": {
      "text/plain": [
       "\"Delicious Wood Fire Biryani, Non Veg Meal At This Village Eatery! NAMMA HALLIMANE, Mangalore Highway #nammahallimane #byrapura #nonveg\\n \\nnamma halli mane, namma hallimane byrapura, hassan district, sakleshpur, mangalore highway, village eatery, non vegetarian lunch, mutton biryani, mutton meals, khaima unde, mutton curry, chicken curry, mallige idli, chicken biryani, chicken chops, botti gojju, chicken kabab,non vegetarian restaurant, mangalore highway, shiradi ghat route, mutton chops curry, karnataka food tour, support local, support small business, gourmet on the road, kripal amanna, food lovers tv, food lovers india, truth in food \\n\\nA few months ago, I began hearing murmurs of a village eatery in Byrapura, Hassan district that seemed to be garnering patrons for its wood-fired biryani and dishes served in a rustic setting. Although only three years old, Umesh Gowda’s Namma Hallimane seems to be emerging as ‘the stop’ for travellers around here mostly for his mutton delicacies, I discovered when I stopped by for lunch.\\n\\nHope you enjoy this lunch stop. Take care; stay safe and strong. Happy eating!\\n\\nBoti Gojju & Idli\\n9/10\\nRs. 205\\n\\nChicken Kabab\\n7.5/10\\nRs. 180\\n\\nChicken Chops\\n7.5/10\\nRs. 180\\n\\nKhaima Unde\\n8/10\\nRs. 200\\n\\nMutton Curry\\n8.5/10\\nRs. 200\\n\\nMutton Biryani\\n8.5/10\\nRs. 260\\n\\n\\nKripal Amanna\\nGourmet On The Road & Founder, Food Lovers TV\\n\\nSubscribe To our second channel at https://www.youtube.com/c/KripalAmannaVlogs \\n\\nADDRESS - Namma Hallimane, NH 75, Near Petrol Bunk, Bangalore - Mangalore Highway, Byrapura, Alur Taluk, Hassan District, Karnataka 573218; tel: +91 95382 28237\\nLOCATION TAG - https://maps.app.goo.gl/5bcyGF2Xys5U8cJH6    \\nTIMINGS: 12pm onwards, open for lunch only.\\n\\nSUPPORT FOOD LOVERS \\nIf you enjoyed this video, please consider supporting Food Lovers TV by joining our membership community on YouTube by hitting the ‘join’ button below or on the home page. You could pledge a nominal sum and receive special privileges like behind the scenes footage, shoot updates, access to live q&a’s and more. \\n\\nYou could also support us on our Patreon page. For more info, check out the links below. \\nhttps://www.youtube.com/channel/UC-Lq6oBPTgTXT_K-ylWL6hg/join\\nhttps://www.patreon.com/foodloverstv \\n\\nOur vision at Food Lovers TV is to be India’s most vibrant, and more  importantly, trusted food content platform. As you may be aware, content on Food Lovers TV is free of commercial constraints as guided by our credo: truth in food. We seek out deserving stories to be told sans any financial consideration from eateries featured. We have chosen not to put up a paywall as we want our rich content to remain accessible to all. Independent food journalism – free for everyone, supported by those who can.\\n\\nYou can also make a one time, direct contribution via upi to our bank account (upi details as below) \\nA/c name: Hospitality Initiatives India Pvt. Ltd.\\neditor-foodlovers.in-1@okhdfcbank\\nPlease email the transfer details to info@foodlovers.in once you have made a contribution.\\n\\nMembers of Food Lovers TV Family Tier on Patreon:\\nTuhina Roy\\nYou too can be part of the Food Lovers Patron Network. Visit https://www.patreon.com/foodloverstv to join the Food Lovers family \\n\\nMembers of Food Lovers TV Insider on YouTube Community:\\nGautam John \\nSanjay Rangan\\nBeena Balagopal\\n\\nYou too can be part of the Food Lovers YouTube Community. Visit https://www.youtube.com/channel/UC-Lq6oBPTgTXT_K-ylWL6hg/join to join the Food Lovers family.\\n\\nNote: This is purely voluntary, no compulsions. \\n\\nThank you.\\n\\nTeam FLTV\\n🙏😋 [Music] mutton Biryani yes sir oh chicken biryani I love the aroma of that Biryani is jostling with the Smoky atmosphere of the [Music] [Music] place oh Chicken [Music] Chops PE High Bean fantastic and I'm told the combination here is the idly that idly is soft with some of that b also get some of that m well we are on the Bangalore Mangalore highway it's about 1:00 in the afternoon and we've stopped for lunch bangaluru is 200 km behind me cesur is roughly about 25 km so it's that time of the afternoon when I was feeling a little hungry and i' had heard of this place called namama harim man here in bayura in Hassen District so that's where we've arrived for lunch I don't know what the food here is all about but I've received requests from the establishments and also a few recommendations over a period of time so I think lunch here should certainly be interesting hello how is the food very good yeah what are you having mutton Biryani mutton Biryani Namaste sir namas new Mr yes sir fan of you thank you very much nice to meet you thank you sir thank you owning chicken birani fish fry chicken m yeah very soft [Music] idly bit of a smoky atmosphere here but that's always nice because they do the cooking over a wood fired store mutton Biryani yes buet rice rice I love the aroma of that Biryani is jostling with the Smokey atmosphere of the place oh chicken [Music] birani yes sir CH yeah yeah CH powder powder definitely smell the coriander in that M Masala Mt [Music] m [Music] oh Chicken Chops mil [Music] only so basically what he says is that the younger the animal is better for a Biryani because you want that meat to really dissolve and if the animal is older then that does well in the sambar yeah I like that bright vious red color of the basically it's a peeled Bean fantastic [Music] so muton Chicken on the dish Chicken Chops chicken biryani cab and [Music] open well this is one of those places that's fairly modest in fact if I didn't put GPS on I would have quite easily overshot this particular location thank God for Google Maps but I think it's the food in this place that rules because although I've received requests from omes GAA on Instagram earlier I've received many recommendations thereafter and also many of the customers that I met here are people whove been here before so they've tried the Biryani they've tried the kebab and that's why they've return to taste what cooks for them thank you you well they also have mud here so in case you want to eat your mud with the saru you can also do that but I saw those soft Mal ID steaming away in that casserole and I think that's what I'm going to have with the [Music] saru thank youo B goo yeah chicken kebab baju chicken kebab and some soft idly [Music] yeah so out here I think uh um GAA insists on you eating in a manner that he would like you to eat muton Kaa mut M [Music] mut Chicken Chops one by one the dishes are coming our table is full so I've got the Chicken Chops here there's a chicken kebab here those are the only two chicken dishes that we have there's also a Biryani that they do this of course is the B gojou and this is the bti that is made with the a b that is the Heen Bean this is a dish that I really had my eyes on the moment you opened the lid and I saw these Plum juicy kaima there's also a bit of charby that you see here a bit of fat right on top this is the mutton Curry and then we have a soft malig idly with some saru and some bti I want to taste that bti first just by itself some Curry [Music] Leaf I think the curries here are certainly the s that grip hold of your throat with a spicy furor there's certain thickness to that b gojou and I'm told the combination here is the idly that idly is soft with some of that b also get some of that a b m told me so before you try anything else please try the B it's a very popular dish and having tasted only a few morels of it I completely believe him the B is soft clean rather well as well and just has a lightest of bites this time it's some of that sambar this is a curry I think there's also a bit of meat in that [Music] the preparations here are the Sal that grip fold of your [Music] throat so even when I saw it in the kitchen most of the dishes out here are the s that are prepared with the red chilies so thises a combination of the byi for the color the G and manatu which is a local Nati chili which has a lot of heat and that's really what you're tasting on the throat M that idly is nice and [Music] soft for those of you like your ragim mud you also have the option of that but it's been a while since I've had a good idly mutton saru so I thought this was the combination to try and with the [Music] B let's try some of that chicken kebab there's a bit of green Chutney that they serve the Kebab with so I'm told he doesn't use any color in his kebab and that seems to be the case because it's not a kebab that's bright crimson red in its color it's a kebab that crunches well has a bit of a juiciness to it as well but not so impactful on the pette as that boty and that mutton saru when we walked in here there was nobody but right now every table is taken every chair taken and there are people waiting for a seat at the table that's how popular is I think next for some of that Chicken Chops get some of the saru there that thick gravy I can definitely taste the flavor of the Masala in that a bit of the coriander a bit of the cumin that's what I'm tasting in that saru is a bit rough around the edges not as smooth as that mutton saru chicken do is a bit tough they only do a couple of chicken dishes and I suspect it's the mutton dishes that find most favor with the customers here the chicken is for the occasional perhaps visitor for those who don't eat mutton and they happen to be stuck with a group of uh mutton lovers well then they have the Chicken Chops the kebab and also the Biryani the chicken is a bit chewy for my preference but what I'm really looking forward to savoring is some of that plump Kaa it breaks off rather easily you're tasting the meat which is quite coarse and its grind but then you're also tasting a bit of the flar that comes from the gram FL I think this can certainly benefit from a bit more of the saru you can also see a bit of the gram flour that's held on to that mutton Min and like it has held on to that mutton that fless of that GLE hitu is also holding on to your pette not too much but a little the saru is quite tasty I want to get some more of the sambar onto that Kaa un that idly is a great accompaniment to all the dishes that I've tasted thus [Music] far that saru is fantastic along with that B I want to tast some of that mutton Curry so this I suspect will be mutton that will be a tad chewy because he said they typically look for an older Animal when it comes to the curry when it comes to the sambar whereas for the Biryani they want an animal that is Young so they want it to be [Music] when it comes to places like these they want that mutton to have a bit of a bite when that mutton has a bit of a bite you tend to chew on it and when you chew on it you're rewarded with the flavor of that Masala but having said that there are certain pieces that are quite soft raita and the mutton Biryani thank you thank thank you very much well this is I'm told the most popular dish here at namal man in addition to that B that steaming plate of mutton Biryani as a mark of respect to the Biryani I've got a fresh plate with the B there's plenty of meat here at least about four or five pieces of meat that I see in this biryani not large pieces small pieces but I think enough that conveys to you the flavor of the meat I love the aroma that's rising up from that Rice so this is a combination of the bullet rice and another local variety that they use I can smell the aroma of the coriander some of the mint that's rising up along with the steam from that Biryani to meet my [Music] nose the Biryani rice is rather fullsome in its flavors if the rice to me conveys a sort of feeling to my palette that it's complete in its flavors well then that Biryani has done its job I can taste a bit of the freshness that comes from the greens from the coriander from the mint there's a bit of the heat that I taste from the green chili so there's no green chili in the other dishes but I think out here is definitely the green chili that you can taste and then also some of the aromat I think there's probably also some fennel that goes into this and the aroma of it I can toally taste detect on my [Music] palette perfect let's go for a bit of the meat [Music] now flavor I love the biryani I met a couple of people as soon as I entered and they say you have to try the Biryani and I having tasted this biryani I know why so Biryani top seller mimu good very good thank you m I'm enjoying the flavor of that rice all in itself the meat in my opinion is not the softest and that's a character of the kind of flavors the kind of textures that they look for in the food here youly need to chew on it a bit but the flavor is all in the rice here some of the meat with the [Music] rice I'm a little distracted because suddenly the place is very crowded and and there's a host of people wondering what I'm doing I think you can also hear the inquisitive conversations around me I think I want to taste some of that mutton curry with that Biryani rice so when you come here let's say if they finished the meat in the Biryani I don't think you want to miss out much ask them for the Biryani rice the kushka and perhaps one of the gravies like this mutton Curry there's also a bit of the charby a bit of the fat and people love the fat around here s b m s b m saru thank you I was inquiring with um as to why some of the pieces are hard some of the pieces are soft he said well we get the whole animal and uh different parts of it go into every preparation and so that's why you'll probably taste some tough pieces some pieces that are tender so the preparations here are the sort that are quite rustic in keeping with the atmosphere of the place so this is sort of place where you just come in have your UT rather quickly and move on but having said that the Biryani the rice especially is a salort that will compel you to linger over it a bit I taste a little more of that [Music] P with a bit of that saru buy bsy saru I love the flavor the texture of the meat in that but I just wish that grham flour was a little understated in the manner in which it registers on the pallette he said you have to finish with the Anna white rice and some Rasam busy busy Rasam to digest everything flavor of the garlic The Tamarind in that Rasam and I think that Rasam will also benefit from being in the company of that remaining dag of the Kaa so all in all Nim man here in bayura makes for a tasty Highway stop my recommendation like in any place that's very popular get here early so that you don't have to jostle with the crowd and of all the dishes that I tasted well my top piics are certainly that mutton Biryani especially that Biryani rice that b goou to was something that I will order the next time around and also that mutton saru the chicken preparations well they are the sort that lend wholesome company to that chicken only Diner when he or she finds themselves at namah har man but otherwise it's the mutton dishes that are supremely popular here I think I'm going to get a little more of that sambar and some of that mutton as I wrap up my mealia the mutton CES also I found very rounded in their flavors and I guess that's why the character of the meat with the fat comes in there's a fair bit of the fat the charby too that floats around in all these gravies the chicken preparations I thought we a bit harsh when it came to the edge of the spice mix especially the coriander and the cumin so that's it from namah man here in bayura until the next time take care stay safe stay strong and happy [Music] eating well all that we tasted good enough I think to feed four people at least rounds up to 1290 rupees okay sir thank you if you'd like to support the work that we do at Food Lovers TV do consider joining our membership community on YouTube by hitting the join button below or on the homepage you could pledge a nominal sum and receive special privileges like behind the scenes footage shoot updates access to live q&as and a lot more you could support us on our patreon page as well for more info check out the links in the description below if you like this video don't forget to subscribe like share and leave a comment below happy eating\""
      ]
     },
     "execution_count": 64,
     "metadata": {},
     "output_type": "execute_result"
    }
   ],
   "source": [
    "text"
   ]
  },
  {
   "cell_type": "code",
   "execution_count": 65,
   "metadata": {},
   "outputs": [],
   "source": [
    "response = model.generate_content(text)"
   ]
  },
  {
   "cell_type": "code",
   "execution_count": 67,
   "metadata": {},
   "outputs": [
    {
     "data": {
      "text/plain": [
       "'```json\\n[\\n  {\\n    \"restaurant_name\": \"Namma Hallimane\",\\n    \"cuisine\": [\\n      \"Karnataka\",\\n      \"South Indian\",\\n      \"Indian\",\\n      \"Non Vegetarian\"\\n    ],\\n    \"price_range\": \"$$\",\\n    \"veg_non_veg\": \"non veg\"\\n  }\\n]\\n```'"
      ]
     },
     "execution_count": 67,
     "metadata": {},
     "output_type": "execute_result"
    }
   ],
   "source": [
    "response.text"
   ]
  },
  {
   "cell_type": "code",
   "execution_count": 68,
   "metadata": {},
   "outputs": [
    {
     "data": {
      "text/plain": [
       "'[\\n  {\\n    \"restaurant_name\": \"Namma Hallimane\",\\n    \"cuisine\": [\\n      \"Karnataka\",\\n      \"South Indian\",\\n      \"Indian\",\\n      \"Non Vegetarian\"\\n    ],\\n    \"price_range\": \"$$\",\\n    \"veg_non_veg\": \"non veg\"\\n  }\\n]'"
      ]
     },
     "execution_count": 68,
     "metadata": {},
     "output_type": "execute_result"
    }
   ],
   "source": [
    "start = response.text.find('[')\n",
    "end = response.text.rfind(']') + 1\n",
    "json_str = response.text[start:end]\n",
    "json_str"
   ]
  },
  {
   "cell_type": "code",
   "execution_count": 69,
   "metadata": {},
   "outputs": [
    {
     "data": {
      "text/plain": [
       "[{'restaurant_name': 'Namma Hallimane',\n",
       "  'cuisine': ['Karnataka', 'South Indian', 'Indian', 'Non Vegetarian'],\n",
       "  'price_range': '$$',\n",
       "  'veg_non_veg': 'non veg'}]"
      ]
     },
     "execution_count": 69,
     "metadata": {},
     "output_type": "execute_result"
    }
   ],
   "source": [
    "additional_data = json.loads(json_str)\n",
    "additional_data"
   ]
  },
  {
   "cell_type": "code",
   "execution_count": 70,
   "metadata": {},
   "outputs": [
    {
     "name": "stdout",
     "output_type": "stream",
     "text": [
      "https://maps.app.goo.gl/5bcyGF2Xys5U8cJH6\n",
      "{'title': 'Lunch At A Highway Eatery! Namma Hallimane, Byrapura #hassan #foodvlog #mangalore #highway', 'link': 'https://www.youtube.com/watch?v=HG9JmewVE04', 'description': 'Only about three years old, however Namma HalliMane is fast emerging as ‘the stop’ for its wood fire-cooked biryani and mutton delicacies on this stretch of Mangalore highway. Watch the complete video at https://youtu.be/7DeoFR_RHRU \\n\\nSubscribe for more like this!\\n\\nADDRESS - Namma Hallimane, NH 75, Near Petrol Bunk, Bangalore - Mangalore Highway, Byrapura, Alur Taluk, Hassan District, Karnataka 573218; tel: +91 95382 28237\\nLOCATION TAG - https://maps.app.goo.gl/5bcyGF2Xys5U8cJH6    \\nTIMINGS: 12pm onwards, open for lunch only.\\n\\n#gourmetontheroad #kripalamanna #foodloverstv #nammahallimane #byrapura #nonveg #biryani #mutton #karnatakafoodtour #supportsmallbusiness #supportlocal #foodloversindia #truthinfood', 'transcription': \"M Kaa M Kaa M [Music] mut Chicken Chops one by one the dishes are coming our table is full so I've got the Chicken Chops here there's a chicken kebab here those are the only two chicken dishes that we have there's also a Biryani that they do this of course is the bti gojou and this is the bti that is made with the a that is the highin bean this is a dish that I really had my eyes on the moment he opened the lid and I saw these plump juicy Kaa there's also a bit of charby that you see here a bit of fat right on top this is the mutton Curry and then we have a soft malig idly with some saru and some bti\", 'lat': 12.9583738, 'long': 75.9795023}\n",
      "{'title': 'Mutton Biryani & Curries At This Highway Stop! #biryani #biryanilovers #muttoncurry  #food', 'link': 'https://www.youtube.com/watch?v=bu9Bqa0e7v8', 'description': 'Watch full video at https://youtu.be/7DeoFR_RHRU \\nSubscribe for more like this! \\n\\nADDRESS - Namma Hallimane, NH 75, Near Petrol Bunk, Bangalore - Mangalore Highway, Byrapura, Alur Taluk, Hassan District, Karnataka 573218; tel: +91 95382 28237\\nLOCATION TAG - https://maps.app.goo.gl/5bcyGF2Xys5U8cJH6    \\nTIMINGS: 12pm onwards, open for lunch only.\\n\\n#gourmetontheroad #kripalamanna #foodloverstv #nammahallimane #byrapura #nonveg\\n#biryani #mutton #karnatakafoodtour #supportsmallbusiness #supportlocal #foodloversindia #truthinfood', 'transcription': \"[Music] mutton Biryani yes sir oh chicken biryani I love the aroma of that Biryani is jostling with the Smoky atmosphere of the [Music] [Music] place oh Chicken [Music] Chops F Bean fantastic and I'm told the combination here is the idly that idly is soft with some of that b also get some of that m\", 'lat': 12.9583738, 'long': 75.9795023}\n",
      "{'title': 'Delicious Wood Fire Biryani, Non Veg Meal At This Village Eatery! NAMMA HALLIMANE, Mangalore Highway', 'link': 'https://www.youtube.com/watch?v=7DeoFR_RHRU', 'description': '#nammahallimane #byrapura #nonveg\\n \\nnamma halli mane, namma hallimane byrapura, hassan district, sakleshpur, mangalore highway, village eatery, non vegetarian lunch, mutton biryani, mutton meals, khaima unde, mutton curry, chicken curry, mallige idli, chicken biryani, chicken chops, botti gojju, chicken kabab,non vegetarian restaurant, mangalore highway, shiradi ghat route, mutton chops curry, karnataka food tour, support local, support small business, gourmet on the road, kripal amanna, food lovers tv, food lovers india, truth in food \\n\\nA few months ago, I began hearing murmurs of a village eatery in Byrapura, Hassan district that seemed to be garnering patrons for its wood-fired biryani and dishes served in a rustic setting. Although only three years old, Umesh Gowda’s Namma Hallimane seems to be emerging as ‘the stop’ for travellers around here mostly for his mutton delicacies, I discovered when I stopped by for lunch.\\n\\nHope you enjoy this lunch stop. Take care; stay safe and strong. Happy eating!\\n\\nBoti Gojju & Idli\\n9/10\\nRs. 205\\n\\nChicken Kabab\\n7.5/10\\nRs. 180\\n\\nChicken Chops\\n7.5/10\\nRs. 180\\n\\nKhaima Unde\\n8/10\\nRs. 200\\n\\nMutton Curry\\n8.5/10\\nRs. 200\\n\\nMutton Biryani\\n8.5/10\\nRs. 260\\n\\n\\nKripal Amanna\\nGourmet On The Road & Founder, Food Lovers TV\\n\\nSubscribe To our second channel at https://www.youtube.com/c/KripalAmannaVlogs \\n\\nADDRESS - Namma Hallimane, NH 75, Near Petrol Bunk, Bangalore - Mangalore Highway, Byrapura, Alur Taluk, Hassan District, Karnataka 573218; tel: +91 95382 28237\\nLOCATION TAG - https://maps.app.goo.gl/5bcyGF2Xys5U8cJH6    \\nTIMINGS: 12pm onwards, open for lunch only.\\n\\nSUPPORT FOOD LOVERS \\nIf you enjoyed this video, please consider supporting Food Lovers TV by joining our membership community on YouTube by hitting the ‘join’ button below or on the home page. You could pledge a nominal sum and receive special privileges like behind the scenes footage, shoot updates, access to live q&a’s and more. \\n\\nYou could also support us on our Patreon page. For more info, check out the links below. \\nhttps://www.youtube.com/channel/UC-Lq6oBPTgTXT_K-ylWL6hg/join\\nhttps://www.patreon.com/foodloverstv \\n\\nOur vision at Food Lovers TV is to be India’s most vibrant, and more  importantly, trusted food content platform. As you may be aware, content on Food Lovers TV is free of commercial constraints as guided by our credo: truth in food. We seek out deserving stories to be told sans any financial consideration from eateries featured. We have chosen not to put up a paywall as we want our rich content to remain accessible to all. Independent food journalism – free for everyone, supported by those who can.\\n\\nYou can also make a one time, direct contribution via upi to our bank account (upi details as below) \\nA/c name: Hospitality Initiatives India Pvt. Ltd.\\neditor-foodlovers.in-1@okhdfcbank\\nPlease email the transfer details to info@foodlovers.in once you have made a contribution.\\n\\nMembers of Food Lovers TV Family Tier on Patreon:\\nTuhina Roy\\nYou too can be part of the Food Lovers Patron Network. Visit https://www.patreon.com/foodloverstv to join the Food Lovers family \\n\\nMembers of Food Lovers TV Insider on YouTube Community:\\nGautam John \\nSanjay Rangan\\nBeena Balagopal\\n\\nYou too can be part of the Food Lovers YouTube Community. Visit https://www.youtube.com/channel/UC-Lq6oBPTgTXT_K-ylWL6hg/join to join the Food Lovers family.\\n\\nNote: This is purely voluntary, no compulsions. \\n\\nThank you.\\n\\nTeam FLTV\\n🙏😋', 'transcription': \"[Music] mutton Biryani yes sir oh chicken biryani I love the aroma of that Biryani is jostling with the Smoky atmosphere of the [Music] [Music] place oh Chicken [Music] Chops PE High Bean fantastic and I'm told the combination here is the idly that idly is soft with some of that b also get some of that m well we are on the Bangalore Mangalore highway it's about 1:00 in the afternoon and we've stopped for lunch bangaluru is 200 km behind me cesur is roughly about 25 km so it's that time of the afternoon when I was feeling a little hungry and i' had heard of this place called namama harim man here in bayura in Hassen District so that's where we've arrived for lunch I don't know what the food here is all about but I've received requests from the establishments and also a few recommendations over a period of time so I think lunch here should certainly be interesting hello how is the food very good yeah what are you having mutton Biryani mutton Biryani Namaste sir namas new Mr yes sir fan of you thank you very much nice to meet you thank you sir thank you owning chicken birani fish fry chicken m yeah very soft [Music] idly bit of a smoky atmosphere here but that's always nice because they do the cooking over a wood fired store mutton Biryani yes buet rice rice I love the aroma of that Biryani is jostling with the Smokey atmosphere of the place oh chicken [Music] birani yes sir CH yeah yeah CH powder powder definitely smell the coriander in that M Masala Mt [Music] m [Music] oh Chicken Chops mil [Music] only so basically what he says is that the younger the animal is better for a Biryani because you want that meat to really dissolve and if the animal is older then that does well in the sambar yeah I like that bright vious red color of the basically it's a peeled Bean fantastic [Music] so muton Chicken on the dish Chicken Chops chicken biryani cab and [Music] open well this is one of those places that's fairly modest in fact if I didn't put GPS on I would have quite easily overshot this particular location thank God for Google Maps but I think it's the food in this place that rules because although I've received requests from omes GAA on Instagram earlier I've received many recommendations thereafter and also many of the customers that I met here are people whove been here before so they've tried the Biryani they've tried the kebab and that's why they've return to taste what cooks for them thank you you well they also have mud here so in case you want to eat your mud with the saru you can also do that but I saw those soft Mal ID steaming away in that casserole and I think that's what I'm going to have with the [Music] saru thank youo B goo yeah chicken kebab baju chicken kebab and some soft idly [Music] yeah so out here I think uh um GAA insists on you eating in a manner that he would like you to eat muton Kaa mut M [Music] mut Chicken Chops one by one the dishes are coming our table is full so I've got the Chicken Chops here there's a chicken kebab here those are the only two chicken dishes that we have there's also a Biryani that they do this of course is the B gojou and this is the bti that is made with the a b that is the Heen Bean this is a dish that I really had my eyes on the moment you opened the lid and I saw these Plum juicy kaima there's also a bit of charby that you see here a bit of fat right on top this is the mutton Curry and then we have a soft malig idly with some saru and some bti I want to taste that bti first just by itself some Curry [Music] Leaf I think the curries here are certainly the s that grip hold of your throat with a spicy furor there's certain thickness to that b gojou and I'm told the combination here is the idly that idly is soft with some of that b also get some of that a b m told me so before you try anything else please try the B it's a very popular dish and having tasted only a few morels of it I completely believe him the B is soft clean rather well as well and just has a lightest of bites this time it's some of that sambar this is a curry I think there's also a bit of meat in that [Music] the preparations here are the Sal that grip fold of your [Music] throat so even when I saw it in the kitchen most of the dishes out here are the s that are prepared with the red chilies so thises a combination of the byi for the color the G and manatu which is a local Nati chili which has a lot of heat and that's really what you're tasting on the throat M that idly is nice and [Music] soft for those of you like your ragim mud you also have the option of that but it's been a while since I've had a good idly mutton saru so I thought this was the combination to try and with the [Music] B let's try some of that chicken kebab there's a bit of green Chutney that they serve the Kebab with so I'm told he doesn't use any color in his kebab and that seems to be the case because it's not a kebab that's bright crimson red in its color it's a kebab that crunches well has a bit of a juiciness to it as well but not so impactful on the pette as that boty and that mutton saru when we walked in here there was nobody but right now every table is taken every chair taken and there are people waiting for a seat at the table that's how popular is I think next for some of that Chicken Chops get some of the saru there that thick gravy I can definitely taste the flavor of the Masala in that a bit of the coriander a bit of the cumin that's what I'm tasting in that saru is a bit rough around the edges not as smooth as that mutton saru chicken do is a bit tough they only do a couple of chicken dishes and I suspect it's the mutton dishes that find most favor with the customers here the chicken is for the occasional perhaps visitor for those who don't eat mutton and they happen to be stuck with a group of uh mutton lovers well then they have the Chicken Chops the kebab and also the Biryani the chicken is a bit chewy for my preference but what I'm really looking forward to savoring is some of that plump Kaa it breaks off rather easily you're tasting the meat which is quite coarse and its grind but then you're also tasting a bit of the flar that comes from the gram FL I think this can certainly benefit from a bit more of the saru you can also see a bit of the gram flour that's held on to that mutton Min and like it has held on to that mutton that fless of that GLE hitu is also holding on to your pette not too much but a little the saru is quite tasty I want to get some more of the sambar onto that Kaa un that idly is a great accompaniment to all the dishes that I've tasted thus [Music] far that saru is fantastic along with that B I want to tast some of that mutton Curry so this I suspect will be mutton that will be a tad chewy because he said they typically look for an older Animal when it comes to the curry when it comes to the sambar whereas for the Biryani they want an animal that is Young so they want it to be [Music] when it comes to places like these they want that mutton to have a bit of a bite when that mutton has a bit of a bite you tend to chew on it and when you chew on it you're rewarded with the flavor of that Masala but having said that there are certain pieces that are quite soft raita and the mutton Biryani thank you thank thank you very much well this is I'm told the most popular dish here at namal man in addition to that B that steaming plate of mutton Biryani as a mark of respect to the Biryani I've got a fresh plate with the B there's plenty of meat here at least about four or five pieces of meat that I see in this biryani not large pieces small pieces but I think enough that conveys to you the flavor of the meat I love the aroma that's rising up from that Rice so this is a combination of the bullet rice and another local variety that they use I can smell the aroma of the coriander some of the mint that's rising up along with the steam from that Biryani to meet my [Music] nose the Biryani rice is rather fullsome in its flavors if the rice to me conveys a sort of feeling to my palette that it's complete in its flavors well then that Biryani has done its job I can taste a bit of the freshness that comes from the greens from the coriander from the mint there's a bit of the heat that I taste from the green chili so there's no green chili in the other dishes but I think out here is definitely the green chili that you can taste and then also some of the aromat I think there's probably also some fennel that goes into this and the aroma of it I can toally taste detect on my [Music] palette perfect let's go for a bit of the meat [Music] now flavor I love the biryani I met a couple of people as soon as I entered and they say you have to try the Biryani and I having tasted this biryani I know why so Biryani top seller mimu good very good thank you m I'm enjoying the flavor of that rice all in itself the meat in my opinion is not the softest and that's a character of the kind of flavors the kind of textures that they look for in the food here youly need to chew on it a bit but the flavor is all in the rice here some of the meat with the [Music] rice I'm a little distracted because suddenly the place is very crowded and and there's a host of people wondering what I'm doing I think you can also hear the inquisitive conversations around me I think I want to taste some of that mutton curry with that Biryani rice so when you come here let's say if they finished the meat in the Biryani I don't think you want to miss out much ask them for the Biryani rice the kushka and perhaps one of the gravies like this mutton Curry there's also a bit of the charby a bit of the fat and people love the fat around here s b m s b m saru thank you I was inquiring with um as to why some of the pieces are hard some of the pieces are soft he said well we get the whole animal and uh different parts of it go into every preparation and so that's why you'll probably taste some tough pieces some pieces that are tender so the preparations here are the sort that are quite rustic in keeping with the atmosphere of the place so this is sort of place where you just come in have your UT rather quickly and move on but having said that the Biryani the rice especially is a salort that will compel you to linger over it a bit I taste a little more of that [Music] P with a bit of that saru buy bsy saru I love the flavor the texture of the meat in that but I just wish that grham flour was a little understated in the manner in which it registers on the pallette he said you have to finish with the Anna white rice and some Rasam busy busy Rasam to digest everything flavor of the garlic The Tamarind in that Rasam and I think that Rasam will also benefit from being in the company of that remaining dag of the Kaa so all in all Nim man here in bayura makes for a tasty Highway stop my recommendation like in any place that's very popular get here early so that you don't have to jostle with the crowd and of all the dishes that I tasted well my top piics are certainly that mutton Biryani especially that Biryani rice that b goou to was something that I will order the next time around and also that mutton saru the chicken preparations well they are the sort that lend wholesome company to that chicken only Diner when he or she finds themselves at namah har man but otherwise it's the mutton dishes that are supremely popular here I think I'm going to get a little more of that sambar and some of that mutton as I wrap up my mealia the mutton CES also I found very rounded in their flavors and I guess that's why the character of the meat with the fat comes in there's a fair bit of the fat the charby too that floats around in all these gravies the chicken preparations I thought we a bit harsh when it came to the edge of the spice mix especially the coriander and the cumin so that's it from namah man here in bayura until the next time take care stay safe stay strong and happy [Music] eating well all that we tasted good enough I think to feed four people at least rounds up to 1290 rupees okay sir thank you if you'd like to support the work that we do at Food Lovers TV do consider joining our membership community on YouTube by hitting the join button below or on the homepage you could pledge a nominal sum and receive special privileges like behind the scenes footage shoot updates access to live q&as and a lot more you could support us on our patreon page as well for more info check out the links in the description below if you like this video don't forget to subscribe like share and leave a comment below happy eating\", 'lat': 12.9583738, 'long': 75.9795023}\n"
     ]
    }
   ],
   "source": [
    "for key, value in data.items():\n",
    "    print(key)\n",
    "    for item in value:\n",
    "        print(item)\n",
    "    break"
   ]
  },
  {
   "cell_type": "code",
   "execution_count": 71,
   "metadata": {},
   "outputs": [
    {
     "data": {
      "text/plain": [
       "[{'title': 'Most Popular Food at Jaipur Litfest | ALOO TIKKI, KACHORI & KULHAD CHAI From DIGGI PALACE Kitchen',\n",
       "  'link': 'https://www.youtube.com/watch?v=idx6j5ZPSko',\n",
       "  'description': \"#Jaipur #JaipurLitFest #GourmetOnTheRoad\\n\\nJaipur Literature Festival, Diggipur Ki Chai Aur Chaat Ki Dukaan, Diggi Palace Kitchen, Diggi Palace Food, JLF, Jaipur Rajasthan, Jaipur Lit Fest Food, Aloo Tikki Chaat, Onion Kachori, Dal Kachori, Gond Ke Ladoo, Kulhad Chai\\n\\nA culinary highlight of the Jaipur Litfest, is the pop-up chaat and chai shop put up by the kitchens of Diggy Palace. Serving a limited menu, but replete with authentic local dishes like the aloo tikki, pyaaz and dal kachori, gond ke ladoo, steaming hot kulhad chai and other snackables, this is where the literati congregate for sustenance. \\n\\nPrices vary from Rs. 45 to 75 per item.\\n\\nADDRESS -  Diggi House, Shivaji Marg, Sawai Ram Singh Rd, C Scheme, Jaipur, Rajasthan 302004; tel: +91 0141 237 3091\\nLOCATION TAG - https://g.page/DiggiPalace\\n\\nI stayed at Hotel Devi Niketan, it's a comfortable place without any frills, but rich in character and history. And the best part is its location in the heart of the city. We paid for our stay.\\nDevi Niketan Website - https://www.deviniketan.com/\\n\\nSUPPORT FOOD LOVERS \\nIf you enjoyed this video, please consider supporting Food Lovers TV by joining our membership community on YouTube by hitting the ‘join’ button below or on the home page. You could pledge a nominal sum and receive special privileges like behind the scenes footage, shoot updates, access to live q&a’s and more. \\n\\nYou could also support us on our Patreon page. For more info, check out the links below. \\n\\nhttps://www.youtube.com/channel/UC-Lq6oBPTgTXT_K-ylWL6hg/join\\nhttps://www.patreon.com/foodloverstv \\n\\nOur vision at Food Lovers is to be India’s finest, and most importantly, trusted content platform in the field of food, wine & spirits and dining. Advertising is clearly demarcated and kept distinct from editorial. We do our best not to blur the lines between the two.\\n\\nAs guided by our credo: Truth in food, wine and dining, we have chosen not to put up a paywall as we want our rich content to remain accessible to all. Independent food journalism – free for those who can’t afford it, supported by those who can.\\n\\nYou can also make a one time, direct contribution to our bank account (details as below) \\n\\nOur bank details are as below:\\nA/c name: Hospitality Initiatives India Pvt. Ltd.\\nA/c No: 0056444807\\nIFSC code: CITI0000004\\nBank: Citibank N A\\nBranch: M G Road, Bangalore, Karnataka, India\\nPlease email the transfer details to info@foodlovers.in once you have made a contribution.\\n\\nMembers of the Food Lovers TV Ambassador Tier on Patron\\nV Malladi\\n\\nMembers of the Food Lovers TV Family Tier on Patreon:\\nStanley Pinto\\nNilesh D'souza \\nYou too can be part of the Food Lovers Patron Network. Visit https://www.patreon.com/foodloverstv to join the Food Lovers family 🙏😋\",\n",
       "  'transcription': 'Error: \\nCould not retrieve a transcript for the video https://www.youtube.com/watch?v=idx6j5ZPSko! This is most likely caused by:\\n\\nSubtitles are disabled for this video\\n\\nIf you are sure that the described cause is not responsible for this error and that a transcript should be retrievable, please create an issue at https://github.com/jdepoix/youtube-transcript-api/issues. Please add which version of youtube_transcript_api you are using and provide the information needed to replicate the error. Also make sure that there are no open issues which already describe your problem!',\n",
       "  'lat': nan,\n",
       "  'long': nan}]"
      ]
     },
     "execution_count": 71,
     "metadata": {},
     "output_type": "execute_result"
    }
   ],
   "source": [
    "data[\"https://g.page/DiggiPalace\"]"
   ]
  },
  {
   "cell_type": "code",
   "execution_count": 77,
   "metadata": {},
   "outputs": [],
   "source": [
    "test_data = data.copy()\n",
    "i = 0\n",
    "# Loop over each key and its associated list of dictionaries\n",
    "for key, value_list in test_data.items():\n",
    "    for item in value_list:\n",
    "        # Combine the text fields to generate content\n",
    "        text = item['title'] + \" \" + item['description'] + \" \" + item['transcription']\n",
    "        print(item[\"title\"])\n",
    "        # Generating content using the model (simulated)\n",
    "        response = model.generate_content(text)\n",
    "        print(\"/n Response text: \")\n",
    "        print(response.text)\n",
    "        # Extracting JSON string from the response text\n",
    "        start = response.text.find('[')\n",
    "        end = response.text.rfind(']') + 1\n",
    "        json_str = response.text[start:end]\n",
    "        print(\"/n JSON string: \")\n",
    "        print(json_str)\n",
    "        # Parsing the JSON string into a dictionary\n",
    "        additional_data = json.loads(json_str)\n",
    "        print(additional_data)\n",
    "        print(additional_data[0])\n",
    "        # Updating the current item with additional data\n",
    "        item.update(additional_data[0])\n",
    "        i+=1\n",
    "        print(f\"Item Number: {i}\")\n"
   ]
  },
  {
   "cell_type": "code",
   "execution_count": 74,
   "metadata": {},
   "outputs": [
    {
     "data": {
      "text/plain": [
       "[{'title': 'Most Popular Food at Jaipur Litfest | ALOO TIKKI, KACHORI & KULHAD CHAI From DIGGI PALACE Kitchen',\n",
       "  'link': 'https://www.youtube.com/watch?v=idx6j5ZPSko',\n",
       "  'description': \"#Jaipur #JaipurLitFest #GourmetOnTheRoad\\n\\nJaipur Literature Festival, Diggipur Ki Chai Aur Chaat Ki Dukaan, Diggi Palace Kitchen, Diggi Palace Food, JLF, Jaipur Rajasthan, Jaipur Lit Fest Food, Aloo Tikki Chaat, Onion Kachori, Dal Kachori, Gond Ke Ladoo, Kulhad Chai\\n\\nA culinary highlight of the Jaipur Litfest, is the pop-up chaat and chai shop put up by the kitchens of Diggy Palace. Serving a limited menu, but replete with authentic local dishes like the aloo tikki, pyaaz and dal kachori, gond ke ladoo, steaming hot kulhad chai and other snackables, this is where the literati congregate for sustenance. \\n\\nPrices vary from Rs. 45 to 75 per item.\\n\\nADDRESS -  Diggi House, Shivaji Marg, Sawai Ram Singh Rd, C Scheme, Jaipur, Rajasthan 302004; tel: +91 0141 237 3091\\nLOCATION TAG - https://g.page/DiggiPalace\\n\\nI stayed at Hotel Devi Niketan, it's a comfortable place without any frills, but rich in character and history. And the best part is its location in the heart of the city. We paid for our stay.\\nDevi Niketan Website - https://www.deviniketan.com/\\n\\nSUPPORT FOOD LOVERS \\nIf you enjoyed this video, please consider supporting Food Lovers TV by joining our membership community on YouTube by hitting the ‘join’ button below or on the home page. You could pledge a nominal sum and receive special privileges like behind the scenes footage, shoot updates, access to live q&a’s and more. \\n\\nYou could also support us on our Patreon page. For more info, check out the links below. \\n\\nhttps://www.youtube.com/channel/UC-Lq6oBPTgTXT_K-ylWL6hg/join\\nhttps://www.patreon.com/foodloverstv \\n\\nOur vision at Food Lovers is to be India’s finest, and most importantly, trusted content platform in the field of food, wine & spirits and dining. Advertising is clearly demarcated and kept distinct from editorial. We do our best not to blur the lines between the two.\\n\\nAs guided by our credo: Truth in food, wine and dining, we have chosen not to put up a paywall as we want our rich content to remain accessible to all. Independent food journalism – free for those who can’t afford it, supported by those who can.\\n\\nYou can also make a one time, direct contribution to our bank account (details as below) \\n\\nOur bank details are as below:\\nA/c name: Hospitality Initiatives India Pvt. Ltd.\\nA/c No: 0056444807\\nIFSC code: CITI0000004\\nBank: Citibank N A\\nBranch: M G Road, Bangalore, Karnataka, India\\nPlease email the transfer details to info@foodlovers.in once you have made a contribution.\\n\\nMembers of the Food Lovers TV Ambassador Tier on Patron\\nV Malladi\\n\\nMembers of the Food Lovers TV Family Tier on Patreon:\\nStanley Pinto\\nNilesh D'souza \\nYou too can be part of the Food Lovers Patron Network. Visit https://www.patreon.com/foodloverstv to join the Food Lovers family 🙏😋\",\n",
       "  'transcription': 'Error: \\nCould not retrieve a transcript for the video https://www.youtube.com/watch?v=idx6j5ZPSko! This is most likely caused by:\\n\\nSubtitles are disabled for this video\\n\\nIf you are sure that the described cause is not responsible for this error and that a transcript should be retrievable, please create an issue at https://github.com/jdepoix/youtube-transcript-api/issues. Please add which version of youtube_transcript_api you are using and provide the information needed to replicate the error. Also make sure that there are no open issues which already describe your problem!',\n",
       "  'lat': nan,\n",
       "  'long': nan,\n",
       "  'restaurant_name': 'Diggi Palace Kitchen',\n",
       "  'cuisine': ['Indian', 'Rajasthani', 'Street Food', 'Chaat'],\n",
       "  'price_range': '$$',\n",
       "  'veg_non_veg': 'Veg'}]"
      ]
     },
     "execution_count": 74,
     "metadata": {},
     "output_type": "execute_result"
    }
   ],
   "source": [
    "test_data[\"https://g.page/DiggiPalace\"]"
   ]
  },
  {
   "cell_type": "code",
   "execution_count": 75,
   "metadata": {},
   "outputs": [
    {
     "name": "stdout",
     "output_type": "stream",
     "text": [
      "Dictionary has been dumped into gmaps_to_link_w_labels.json\n"
     ]
    }
   ],
   "source": [
    "# Define the filename for the JSON file\n",
    "json_filename = 'gmaps_to_link_w_labels.json'\n",
    "\n",
    "# Dump the dictionary into the JSON file\n",
    "with open(json_filename, 'w') as json_file:\n",
    "    json.dump(test_data, json_file, indent=4)\n",
    "\n",
    "print(f\"Dictionary has been dumped into {json_filename}\")"
   ]
  },
  {
   "cell_type": "code",
   "execution_count": 76,
   "metadata": {},
   "outputs": [],
   "source": [
    "# new_data = {}\n",
    "\n",
    "# for key, value_list in data.items():\n",
    "#     for item in value_list:\n",
    "#         # Check if the required keys exist\n",
    "#         if all(k in item for k in ('title', 'description', 'transcription')):\n",
    "#             # Combine the text fields to generate content\n",
    "#             print(item['title'])\n",
    "#             print(item['link'])\n",
    "#             text = item['title'] + \" \" + item['description'] + \" \" + item['transcription']\n",
    "            \n",
    "#             # Generating content using the model (simulated)\n",
    "#             response = model.generate_content(text)\n",
    "#             print(response.text)\n",
    "#             # Extracting JSON string from the response text\n",
    "#             json_str = response.text.strip('```json\\n').strip('\\n```').strip()\n",
    "            \n",
    "#             # Parsing the JSON string into a list of dictionaries\n",
    "#             additional_data_list = json.loads(json_str)\n",
    "#             print(additional_data_list)\n",
    "#             for additional_data in additional_data_list:\n",
    "#                 if isinstance(additional_data, dict):\n",
    "#                     try:\n",
    "#                         # Create a copy of the item and update it with additional data\n",
    "#                         new_item = item.copy()\n",
    "#                         new_item.update(additional_data)\n",
    "                    \n",
    "#                         # Add the updated item to the new dictionary with the restaurant name as the key\n",
    "#                         restaurant_name = additional_data['restaurant_name']\n",
    "#                         new_data[restaurant_name] = new_item \n",
    "#                         print(new_item)\n",
    "#                     except KeyError as e:\n",
    "#                         print(f\"Error: {e}. Skipping entry.\")\n",
    "#                 else:\n",
    "#                     print(\"Additional data is not a dictionary. Skipping entry.\")"
   ]
  },
  {
   "cell_type": "code",
   "execution_count": null,
   "metadata": {},
   "outputs": [],
   "source": []
  }
 ],
 "metadata": {
  "kernelspec": {
   "display_name": "youtube-scrapper",
   "language": "python",
   "name": "python3"
  },
  "language_info": {
   "codemirror_mode": {
    "name": "ipython",
    "version": 3
   },
   "file_extension": ".py",
   "mimetype": "text/x-python",
   "name": "python",
   "nbconvert_exporter": "python",
   "pygments_lexer": "ipython3",
   "version": "3.12.3"
  }
 },
 "nbformat": 4,
 "nbformat_minor": 2
}
